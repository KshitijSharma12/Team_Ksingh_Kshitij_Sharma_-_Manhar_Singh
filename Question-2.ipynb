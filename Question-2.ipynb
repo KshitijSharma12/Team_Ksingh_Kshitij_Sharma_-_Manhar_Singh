{
 "cells": [
  {
   "cell_type": "code",
   "execution_count": 7,
   "id": "4bb4858b",
   "metadata": {},
   "outputs": [
    {
     "data": {
      "text/plain": [
       "\"\\n# run the main function\\nif __name__ == '__main__':\\n    main()\\n\""
      ]
     },
     "execution_count": 7,
     "metadata": {},
     "output_type": "execute_result"
    }
   ],
   "source": [
    "# import required libraries\n",
    "from googleapiclient.discovery import build\n",
    "from googleapiclient.errors import HttpError\n",
    "\n",
    "# define API key\n",
    "API_KEY = \"YOUR_API_KEY\"\n",
    "\n",
    "# function to get video tags from YouTube Data API\n",
    "def get_video_tags(video_id):\n",
    "    youtube = build('youtube', 'v3', developerKey=API_KEY)\n",
    "    request = youtube.videos().list(\n",
    "        part='snippet',\n",
    "        id=video_id\n",
    "    )\n",
    "    response = request.execute()\n",
    "    tags = response['items'][0]['snippet']['tags']\n",
    "    return tags\n",
    "\n",
    "# function to get video tags from top videos related to a given video from YouTube Data API\n",
    "def get_top_video_tags(video_id):\n",
    "    youtube = build('youtube', 'v3', developerKey=API_KEY)\n",
    "    request = youtube.search().list(\n",
    "        part='snippet',\n",
    "        relatedToVideoId=video_id,\n",
    "        type='video',\n",
    "        maxResults=10\n",
    "    )\n",
    "    response = request.execute()\n",
    "    video_ids = [item['id']['videoId'] for item in response['items']]\n",
    "    top_video_tags = []\n",
    "    for id in video_ids:\n",
    "        tags = get_video_tags(id)\n",
    "        top_video_tags.extend(tags)\n",
    "    return top_video_tags\n",
    "\n",
    "# function to update video tags on YouTube Data API\n",
    "def update_video_tags(video_id, updated_tags):\n",
    "    youtube = build('youtube', 'v3', developerKey=API_KEY)\n",
    "    request = youtube.videos().update(\n",
    "        part='snippet',\n",
    "        body={\n",
    "            'id': video_id,\n",
    "            'snippet': {\n",
    "                'tags': updated_tags\n",
    "            }\n",
    "        }\n",
    "    )\n",
    "    response = request.execute()\n",
    "\n",
    "# main function to run the program\n",
    "def main():\n",
    "    video_id = input(\"Enter the URL of the YouTube video: \")[32:]\n",
    "    video_tags = get_video_tags(video_id)\n",
    "    top_video_tags = get_top_video_tags(video_id)\n",
    "    common_tags = list(set(video_tags).intersection(top_video_tags))\n",
    "    update_video_tags(video_id, common_tags)\n",
    "    print(\"The updated tags are: \")\n",
    "    print(common_tags)\n",
    "\n",
    "# run the main function\n",
    "if __name__ == '__main__':\n",
    "    main()\n"
   ]
  }
 ],
 "metadata": {
  "kernelspec": {
   "display_name": "Python 3 (ipykernel)",
   "language": "python",
   "name": "python3"
  },
  "language_info": {
   "codemirror_mode": {
    "name": "ipython",
    "version": 3
   },
   "file_extension": ".py",
   "mimetype": "text/x-python",
   "name": "python",
   "nbconvert_exporter": "python",
   "pygments_lexer": "ipython3",
   "version": "3.9.7"
  }
 },
 "nbformat": 4,
 "nbformat_minor": 5
}

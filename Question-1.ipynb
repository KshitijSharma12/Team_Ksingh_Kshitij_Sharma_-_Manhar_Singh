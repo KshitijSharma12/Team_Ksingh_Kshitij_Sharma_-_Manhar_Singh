{
 "cells": [
  {
   "cell_type": "code",
   "execution_count": 2,
   "id": "a4d1b8ac",
   "metadata": {},
   "outputs": [
    {
     "name": "stdout",
     "output_type": "stream",
     "text": [
      "Collecting google-api-python-client\n",
      "  Downloading google_api_python_client-2.85.0-py2.py3-none-any.whl (11.2 MB)\n",
      "Collecting google-auth-httplib2>=0.1.0\n",
      "  Downloading google_auth_httplib2-0.1.0-py2.py3-none-any.whl (9.3 kB)\n",
      "Collecting google-api-core!=2.0.*,!=2.1.*,!=2.2.*,!=2.3.0,<3.0.0dev,>=1.31.5\n",
      "  Downloading google_api_core-2.11.0-py3-none-any.whl (120 kB)\n",
      "Collecting httplib2<1dev,>=0.15.0\n",
      "  Downloading httplib2-0.22.0-py3-none-any.whl (96 kB)\n",
      "Collecting uritemplate<5,>=3.0.1\n",
      "  Downloading uritemplate-4.1.1-py2.py3-none-any.whl (10 kB)\n",
      "Requirement already satisfied: google-auth<3.0.0dev,>=1.19.0 in c:\\users\\asus\\anaconda3\\lib\\site-packages (from google-api-python-client) (2.12.0)\n",
      "Requirement already satisfied: protobuf!=3.20.0,!=3.20.1,!=4.21.0,!=4.21.1,!=4.21.2,!=4.21.3,!=4.21.4,!=4.21.5,<5.0.0dev,>=3.19.5 in c:\\users\\asus\\anaconda3\\lib\\site-packages (from google-api-core!=2.0.*,!=2.1.*,!=2.2.*,!=2.3.0,<3.0.0dev,>=1.31.5->google-api-python-client) (3.19.6)\n",
      "Collecting google-auth<3.0.0dev,>=1.19.0\n",
      "  Downloading google_auth-2.17.3-py2.py3-none-any.whl (178 kB)\n",
      "Collecting googleapis-common-protos<2.0dev,>=1.56.2\n",
      "  Downloading googleapis_common_protos-1.59.0-py2.py3-none-any.whl (223 kB)\n",
      "Requirement already satisfied: requests<3.0.0dev,>=2.18.0 in c:\\users\\asus\\anaconda3\\lib\\site-packages (from google-api-core!=2.0.*,!=2.1.*,!=2.2.*,!=2.3.0,<3.0.0dev,>=1.31.5->google-api-python-client) (2.26.0)\n",
      "Requirement already satisfied: cachetools<6.0,>=2.0.0 in c:\\users\\asus\\anaconda3\\lib\\site-packages (from google-auth<3.0.0dev,>=1.19.0->google-api-python-client) (5.2.0)\n",
      "Requirement already satisfied: rsa<5,>=3.1.4 in c:\\users\\asus\\anaconda3\\lib\\site-packages (from google-auth<3.0.0dev,>=1.19.0->google-api-python-client) (4.9)\n",
      "Requirement already satisfied: pyasn1-modules>=0.2.1 in c:\\users\\asus\\anaconda3\\lib\\site-packages (from google-auth<3.0.0dev,>=1.19.0->google-api-python-client) (0.2.8)\n",
      "Requirement already satisfied: six>=1.9.0 in c:\\users\\asus\\anaconda3\\lib\\site-packages (from google-auth<3.0.0dev,>=1.19.0->google-api-python-client) (1.16.0)\n",
      "Requirement already satisfied: pyparsing!=3.0.0,!=3.0.1,!=3.0.2,!=3.0.3,<4,>=2.4.2 in c:\\users\\asus\\anaconda3\\lib\\site-packages (from httplib2<1dev,>=0.15.0->google-api-python-client) (3.0.4)\n",
      "Requirement already satisfied: pyasn1<0.5.0,>=0.4.6 in c:\\users\\asus\\anaconda3\\lib\\site-packages (from pyasn1-modules>=0.2.1->google-auth<3.0.0dev,>=1.19.0->google-api-python-client) (0.4.8)\n",
      "Requirement already satisfied: urllib3<1.27,>=1.21.1 in c:\\users\\asus\\anaconda3\\lib\\site-packages (from requests<3.0.0dev,>=2.18.0->google-api-core!=2.0.*,!=2.1.*,!=2.2.*,!=2.3.0,<3.0.0dev,>=1.31.5->google-api-python-client) (1.26.7)\n",
      "Requirement already satisfied: idna<4,>=2.5 in c:\\users\\asus\\anaconda3\\lib\\site-packages (from requests<3.0.0dev,>=2.18.0->google-api-core!=2.0.*,!=2.1.*,!=2.2.*,!=2.3.0,<3.0.0dev,>=1.31.5->google-api-python-client) (3.2)\n",
      "Requirement already satisfied: charset-normalizer~=2.0.0 in c:\\users\\asus\\anaconda3\\lib\\site-packages (from requests<3.0.0dev,>=2.18.0->google-api-core!=2.0.*,!=2.1.*,!=2.2.*,!=2.3.0,<3.0.0dev,>=1.31.5->google-api-python-client) (2.0.4)\n",
      "Requirement already satisfied: certifi>=2017.4.17 in c:\\users\\asus\\anaconda3\\lib\\site-packages (from requests<3.0.0dev,>=2.18.0->google-api-core!=2.0.*,!=2.1.*,!=2.2.*,!=2.3.0,<3.0.0dev,>=1.31.5->google-api-python-client) (2021.10.8)\n",
      "Installing collected packages: httplib2, googleapis-common-protos, google-auth, uritemplate, google-auth-httplib2, google-api-core, google-api-python-client\n",
      "  Attempting uninstall: google-auth\n",
      "    Found existing installation: google-auth 2.12.0\n",
      "    Uninstalling google-auth-2.12.0:\n",
      "      Successfully uninstalled google-auth-2.12.0\n",
      "Successfully installed google-api-core-2.11.0 google-api-python-client-2.85.0 google-auth-2.17.3 google-auth-httplib2-0.1.0 googleapis-common-protos-1.59.0 httplib2-0.22.0 uritemplate-4.1.1\n",
      "Note: you may need to restart the kernel to use updated packages.\n"
     ]
    }
   ],
   "source": [
    "pip install google-api-python-client\n"
   ]
  },
  {
   "cell_type": "code",
   "execution_count": 4,
   "id": "e34e2880",
   "metadata": {},
   "outputs": [
    {
     "name": "stdout",
     "output_type": "stream",
     "text": [
      "Collecting linkedin-api\n",
      "  Downloading linkedin_api-1.1.0-py3-none-any.whl (12 kB)\n",
      "Requirement already satisfied: requests in c:\\users\\asus\\anaconda3\\lib\\site-packages (from linkedin-api) (2.26.0)\n",
      "Requirement already satisfied: idna<4,>=2.5 in c:\\users\\asus\\anaconda3\\lib\\site-packages (from requests->linkedin-api) (3.2)\n",
      "Requirement already satisfied: urllib3<1.27,>=1.21.1 in c:\\users\\asus\\anaconda3\\lib\\site-packages (from requests->linkedin-api) (1.26.7)\n",
      "Requirement already satisfied: charset-normalizer~=2.0.0 in c:\\users\\asus\\anaconda3\\lib\\site-packages (from requests->linkedin-api) (2.0.4)\n",
      "Requirement already satisfied: certifi>=2017.4.17 in c:\\users\\asus\\anaconda3\\lib\\site-packages (from requests->linkedin-api) (2021.10.8)\n",
      "Installing collected packages: linkedin-api\n",
      "Successfully installed linkedin-api-1.1.0\n",
      "Note: you may need to restart the kernel to use updated packages.\n"
     ]
    }
   ],
   "source": [
    "pip install linkedin-api"
   ]
  },
  {
   "cell_type": "code",
   "execution_count": 6,
   "id": "d70b5629",
   "metadata": {},
   "outputs": [
    {
     "name": "stdout",
     "output_type": "stream",
     "text": [
      "Collecting facebook-sdk\n",
      "  Downloading facebook_sdk-3.1.0-py2.py3-none-any.whl (7.5 kB)\n",
      "Requirement already satisfied: requests in c:\\users\\asus\\anaconda3\\lib\\site-packages (from facebook-sdk) (2.26.0)\n",
      "Requirement already satisfied: urllib3<1.27,>=1.21.1 in c:\\users\\asus\\anaconda3\\lib\\site-packages (from requests->facebook-sdk) (1.26.7)\n",
      "Requirement already satisfied: idna<4,>=2.5 in c:\\users\\asus\\anaconda3\\lib\\site-packages (from requests->facebook-sdk) (3.2)\n",
      "Requirement already satisfied: certifi>=2017.4.17 in c:\\users\\asus\\anaconda3\\lib\\site-packages (from requests->facebook-sdk) (2021.10.8)\n",
      "Requirement already satisfied: charset-normalizer~=2.0.0 in c:\\users\\asus\\anaconda3\\lib\\site-packages (from requests->facebook-sdk) (2.0.4)\n",
      "Installing collected packages: facebook-sdk\n",
      "Successfully installed facebook-sdk-3.1.0\n",
      "Note: you may need to restart the kernel to use updated packages.\n"
     ]
    }
   ],
   "source": [
    "pip install facebook-sdk"
   ]
  },
  {
   "cell_type": "code",
   "execution_count": 11,
   "id": "61c6636c",
   "metadata": {},
   "outputs": [
    {
     "name": "stdout",
     "output_type": "stream",
     "text": [
      "Collecting selenium\n",
      "  Downloading selenium-4.8.3-py3-none-any.whl (6.5 MB)\n",
      "Requirement already satisfied: urllib3[socks]~=1.26 in c:\\users\\asus\\anaconda3\\lib\\site-packages (from selenium) (1.26.7)\n",
      "Requirement already satisfied: certifi>=2021.10.8 in c:\\users\\asus\\anaconda3\\lib\\site-packages (from selenium) (2021.10.8)\n",
      "Collecting trio-websocket~=0.9\n",
      "  Downloading trio_websocket-0.10.2-py3-none-any.whl (17 kB)\n",
      "Collecting trio~=0.17\n",
      "  Downloading trio-0.22.0-py3-none-any.whl (384 kB)\n",
      "Requirement already satisfied: cffi>=1.14 in c:\\users\\asus\\anaconda3\\lib\\site-packages (from trio~=0.17->selenium) (1.14.6)\n",
      "Requirement already satisfied: sortedcontainers in c:\\users\\asus\\anaconda3\\lib\\site-packages (from trio~=0.17->selenium) (2.4.0)\n",
      "Requirement already satisfied: sniffio in c:\\users\\asus\\anaconda3\\lib\\site-packages (from trio~=0.17->selenium) (1.2.0)\n",
      "Requirement already satisfied: attrs>=19.2.0 in c:\\users\\asus\\anaconda3\\lib\\site-packages (from trio~=0.17->selenium) (21.2.0)\n",
      "Collecting exceptiongroup>=1.0.0rc9\n",
      "  Downloading exceptiongroup-1.1.1-py3-none-any.whl (14 kB)\n",
      "Requirement already satisfied: async-generator>=1.9 in c:\\users\\asus\\anaconda3\\lib\\site-packages (from trio~=0.17->selenium) (1.10)\n",
      "Requirement already satisfied: idna in c:\\users\\asus\\anaconda3\\lib\\site-packages (from trio~=0.17->selenium) (3.2)\n",
      "Collecting outcome\n",
      "  Downloading outcome-1.2.0-py2.py3-none-any.whl (9.7 kB)\n",
      "Requirement already satisfied: pycparser in c:\\users\\asus\\anaconda3\\lib\\site-packages (from cffi>=1.14->trio~=0.17->selenium) (2.20)\n",
      "Collecting wsproto>=0.14\n",
      "  Downloading wsproto-1.2.0-py3-none-any.whl (24 kB)\n",
      "Requirement already satisfied: PySocks!=1.5.7,<2.0,>=1.5.6 in c:\\users\\asus\\anaconda3\\lib\\site-packages (from urllib3[socks]~=1.26->selenium) (1.7.1)\n",
      "Collecting h11<1,>=0.9.0\n",
      "  Downloading h11-0.14.0-py3-none-any.whl (58 kB)\n",
      "Installing collected packages: outcome, h11, exceptiongroup, wsproto, trio, trio-websocket, selenium\n",
      "Successfully installed exceptiongroup-1.1.1 h11-0.14.0 outcome-1.2.0 selenium-4.8.3 trio-0.22.0 trio-websocket-0.10.2 wsproto-1.2.0\n",
      "Note: you may need to restart the kernel to use updated packages.\n"
     ]
    }
   ],
   "source": [
    "pip install selenium"
   ]
  },
  {
   "cell_type": "code",
   "execution_count": 36,
   "id": "6270ea79",
   "metadata": {},
   "outputs": [],
   "source": [
    "import csv\n",
    "import datetime\n",
    "from time import sleep\n",
    "from pathlib import Path\n",
    "from selenium import webdriver\n",
    "\n",
    "# Define the list of supported platforms\n",
    "SUPPORTED_PLATFORMS = ['YouTube', 'Facebook', 'LinkedIn']\n",
    "\n",
    "# Function to upload a video to YouTube\n",
    "def upload_to_youtube(title, description, file_path, tags, thumbnail):\n",
    "    # Use Selenium WebDriver to automate the upload process\n",
    "    driver = webdriver.Chrome() # Replace with the path to your own webdriver\n",
    "    driver.get('https://www.youtube.com/upload')\n",
    "\n",
    "    # Fill in the necessary information\n",
    "    driver.find_element_by_id('Title').send_keys(title)\n",
    "    driver.find_element_by_id('Description').send_keys(description)\n",
    "    driver.find_element_by_id('File path').send_keys(str(file_path))\n",
    "    driver.find_element_by_id('Thumbnail').send_keys(str(thumbnail))\n",
    "    driver.find_element_by_id('Tags').send_keys(tags)\n",
    "\n",
    "    # Wait for the upload to complete\n",
    "    while True:\n",
    "        sleep(10) # Check the status every 10 seconds\n",
    "        if 'Video uploaded' in driver.page_source:\n",
    "            break\n",
    "\n",
    "    # Close the browser window\n",
    "    driver.quit()\n",
    "\n",
    "# Function to upload a video to Facebook\n",
    "def upload_to_facebook(title, description, file_path, tags, thumbnail):\n",
    "    # Use Selenium WebDriver to automate the upload process\n",
    "    driver = webdriver.Chrome() # Replace with the path to your own webdriver\n",
    "    driver.get('https://www.facebook.com/groups/your-group-id-here/') # Replace with your own Facebook group ID\n",
    "\n",
    "    # Fill in the necessary information\n",
    "    driver.find_element_by_name('composer_photo[]').send_keys(str(file_path))\n",
    "    driver.find_element_by_name('xhpc_message_text').send_keys(f'{title}\\n\\n{description}\\n\\n{tags}')\n",
    "\n",
    "    # Wait for the upload to complete\n",
    "    while True:\n",
    "        sleep(10) # Check the status every 10 seconds\n",
    "        if 'Your post has been shared' in driver.page_source:\n",
    "            break\n",
    "\n",
    "    # Close the browser window\n",
    "    driver.quit()\n",
    "\n",
    "# Function to upload a video to LinkedIn\n",
    "def upload_to_linkedin(title, description, file_path, tags, thumbnail):\n",
    "    # Use Selenium WebDriver to automate the upload process\n",
    "    driver = webdriver.Chrome() # Replace with the path to your own webdriver\n",
    "    driver.get('https://www.linkedin.com/post-inspector/inspect/') # Replace with your own LinkedIn upload page\n",
    "\n",
    "    # Fill in the necessary information\n",
    "    driver.find_element_by_id('attachment-embed-url-input').send_keys(str(file_path))\n",
    "    driver.find_element_by_id('title').send_keys(title)\n",
    "    driver.find_element_by_id('description').send_keys(description)\n",
    "    driver.find_element_by_id('tags-input').send_keys(tags)\n",
    "\n",
    "    # Wait for the upload to complete\n",
    "    while True:\n",
    "        sleep(10) # Check the status every 10 seconds\n",
    "        if 'Your post has been published' in driver.page_source:\n",
    "            break\n",
    "\n",
    "    # Close the browser window\n",
    "    driver.quit()\n",
    "\n",
    "# Open the CSV file\n",
    "#with open(r'C:\\Users\\asus\\Downloads\\wsuvery2.csv', newline='') as csvfile:\n",
    "#    reader = csv.DictReader(csvfile)\n",
    "    reader = pd.read_csv(r\"C:\\Users\\asus\\Downloads\\wsuvery2.csv\")\n",
    "\n",
    "    # Loop through each row in the CSV file\n",
    "    for row in reader:\n",
    "        # Check if the platform is supported\n",
    "        if row['Platform'] in SUPPORTED_PLATFORMS:\n",
    "            # Parse the upload date and time from the file path\n",
    "            file_path = Path(row['Upload Date & Time'])\n",
    "            upload_datetime = datetime.datetime.strptime(file_path.stem, '%d-%m-%Y %H:%M')\n",
    "\n",
    "            # Check if the upload date and time has passed\n",
    "            if datetime.datetime.now() >= upload_datetime:\n",
    "            # Call the appropriate upload function based on the platform\n",
    "            \tif row['Platform'] == 'YouTube':\n",
    "                    upload_to_youtube(row['Title'], row['Description'], file_path, row['Tags'], row['Thumbnail'])\n",
    "            \telif row['Platform'] == 'Facebook':\n",
    "                \tupload_to_facebook(row[\"Title\"], row['Description'], file_path, row['Tags'], row['Thumbnail'])\n",
    "            \telif row['Platform'] == 'LinkedIn':\n",
    "                \tupload_to_linkedin(row['Title'], row['Description'], file_path, row['Tags'], row['Thumbnail'])\n",
    "        else:\n",
    "            print(f\"Skipped upload for {row['Platform']} - {row['Title']} as the upload time has not yet passed.\")\n",
    "\n"
   ]
  }
 ],
 "metadata": {
  "kernelspec": {
   "display_name": "Python 3 (ipykernel)",
   "language": "python",
   "name": "python3"
  },
  "language_info": {
   "codemirror_mode": {
    "name": "ipython",
    "version": 3
   },
   "file_extension": ".py",
   "mimetype": "text/x-python",
   "name": "python",
   "nbconvert_exporter": "python",
   "pygments_lexer": "ipython3",
   "version": "3.9.7"
  }
 },
 "nbformat": 4,
 "nbformat_minor": 5
}
